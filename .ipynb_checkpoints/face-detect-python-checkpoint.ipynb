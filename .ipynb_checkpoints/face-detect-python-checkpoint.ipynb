{
 "cells": [
  {
   "cell_type": "code",
   "execution_count": 1,
   "metadata": {},
   "outputs": [],
   "source": [
    "import dlib\n",
    "import cv2\n",
    "import imutils\n",
    "import base64\n",
    "import boto3\n",
    "import json\n",
    "from datetime import datetime, timedelta\n",
    "import  pymysql \n",
    "IOT_TOPIC = 'face/image'\n",
    "iot = boto3.client('iot-data')\n",
    "rds = boto3.client('rds-data')\n",
    "def getTimestamp():\n",
    "#     timestamp = str(datetime.now() + timedelta(hours=timeZone))\n",
    "    timestamp = str(datetime.now())\n",
    "    return timestamp"
   ]
  },
  {
   "cell_type": "code",
   "execution_count": 2,
   "metadata": {},
   "outputs": [],
   "source": [
    "def dbConnect(faceEncode):\n",
    "    conn = pymysql.connect (host = 'face-image.cno0pmzz3oo0.us-east-1.rds.amazonaws.com',\n",
    "                            user = 'admin',\n",
    "                            passwd = \"wCcZ5AGYPIeZQAxCoc95\",\n",
    "                            db = 'face-db' ) \n",
    "    cur = None\n",
    "    if conn is not None:\n",
    "        cur = conn.cursor()\n",
    "    if cur is not None:\n",
    "        sql = 'CREATE TABLE IF NOT EXISTS `face`( \\\n",
    "        `face_id` INT NOT NULL AUTO_INCREMENT PRIMARY KEY, \\\n",
    "        `image_code` text NOT NULL, \\\n",
    "        `timestamp` VARCHAR(30) NOT NULL)'\n",
    "        cur.execute(sql)\n",
    "\n",
    "    if conn is not None:\n",
    "        cur = conn.cursor()\n",
    "    if cur is not None:\n",
    "        cur.execute('INSERT INTO `face-db`.`face-table` (`image_code`, `timestamp`) VALUES (%s, %s)', (faceEncode, getTimestamp()))\n",
    "        conn.commit()\n",
    "\n",
    "    cur.close() \n",
    "    conn.close()\n",
    "    return None"
   ]
  },
  {
   "cell_type": "code",
   "execution_count": null,
   "metadata": {},
   "outputs": [
    {
     "name": "stdout",
     "output_type": "stream",
     "text": [
      "face detected\n",
      "Publish to AWS IoT Topic: face/image\n",
      "face detected\n",
      "Publish to AWS IoT Topic: face/image\n"
     ]
    },
    {
     "name": "stderr",
     "output_type": "stream",
     "text": [
      "/anaconda3/lib/python3.6/site-packages/pymysql/cursors.py:170: Warning: (1050, \"Table 'face' already exists\")\n",
      "  result = self._query(query)\n"
     ]
    },
    {
     "name": "stdout",
     "output_type": "stream",
     "text": [
      "face detected\n",
      "Publish to AWS IoT Topic: face/image\n",
      "face detected\n",
      "Publish to AWS IoT Topic: face/image\n",
      "face detected\n",
      "Publish to AWS IoT Topic: face/image\n",
      "face detected\n",
      "Publish to AWS IoT Topic: face/image\n",
      "face detected\n",
      "Publish to AWS IoT Topic: face/image\n",
      "face detected\n",
      "Publish to AWS IoT Topic: face/image\n",
      "face detected\n",
      "Publish to AWS IoT Topic: face/image\n",
      "face detected\n",
      "Publish to AWS IoT Topic: face/image\n"
     ]
    }
   ],
   "source": [
    "# 開啟影片檔案\n",
    "cap = cv2.VideoCapture(0)\n",
    "\n",
    "# Dlib 的人臉偵測器\n",
    "detector = dlib.get_frontal_face_detector()\n",
    "\n",
    "# 以迴圈從影片檔案讀取影格，並顯示出來\n",
    "while(cap.isOpened()):\n",
    "  ret, frame = cap.read()\n",
    "\n",
    "  # 偵測人臉\n",
    "  face_rects, scores, idx = detector.run(frame, 0)\n",
    "\n",
    "  # 取出所有偵測的結果\n",
    "  count = 0\n",
    "  for i, d in enumerate(face_rects):\n",
    "    left = d.left()\n",
    "    top = d.top()\n",
    "    right = d.right()\n",
    "    bottom = d.bottom()\n",
    "    text = \"%2.2f(%d)\" % (scores[i], idx[i])\n",
    "    \n",
    "    # 以方框標示偵測的人臉\n",
    "    cv2.rectangle(frame, (left, top), (right, bottom), (0, 255, 0), 4, cv2.LINE_AA)\n",
    "    # 標示分數\n",
    "    cv2.putText(frame, text, (left, top), cv2.FONT_HERSHEY_DUPLEX,\n",
    "            0.7, (255, 255, 255), 1, cv2.LINE_AA)\n",
    "    \n",
    "    # 求長寬\n",
    "    height = bottom - top\n",
    "    width = right - left\n",
    "    # 截圖長寬大於40\n",
    "    \n",
    "    try:\n",
    "        if height > 40 and width > 40:\n",
    "            print('face detected')\n",
    "            face = frame[(top):(top + height),(left):(left + width)]\n",
    "    #         if height > width:\n",
    "    #             face = imutils.resize(face, width=128)\n",
    "    #         else:\n",
    "    #             face = imutils.resize(face, height=128)\n",
    "\n",
    "            _, jpeg = cv2.imencode('.jpg', face)\n",
    "            faceEncode = base64.b64encode(jpeg.tobytes()).decode('utf-8')\n",
    "            # Publish to IoT Core Topic\n",
    "            print('Publish to AWS IoT Topic: face/image')\n",
    "            response = iot.publish(\n",
    "                topic= IOT_TOPIC,\n",
    "                payload=json.dumps({\n",
    "                'face': faceEncode\n",
    "            })\n",
    "            )\n",
    "            dbConnect(faceEncode)\n",
    "            \n",
    "        # 截圖太小\n",
    "        else:\n",
    "            print('face too small')\n",
    "            \n",
    "    except Exception as e:\n",
    "        print(e)\n",
    "    \n",
    "\n",
    "  # 顯示結果\n",
    "  cv2.imshow(\"Face Detection\", frame)\n",
    "  \n",
    "  if cv2.waitKey(1) & 0xFF == ord('q'):\n",
    "    break\n",
    "\n",
    "cap.release()\n",
    "cv2.destroyAllWindows()"
   ]
  },
  {
   "cell_type": "code",
   "execution_count": null,
   "metadata": {},
   "outputs": [],
   "source": []
  }
 ],
 "metadata": {
  "kernelspec": {
   "display_name": "Python 3",
   "language": "python",
   "name": "python3"
  },
  "language_info": {
   "codemirror_mode": {
    "name": "ipython",
    "version": 3
   },
   "file_extension": ".py",
   "mimetype": "text/x-python",
   "name": "python",
   "nbconvert_exporter": "python",
   "pygments_lexer": "ipython3",
   "version": "3.6.8"
  }
 },
 "nbformat": 4,
 "nbformat_minor": 2
}
