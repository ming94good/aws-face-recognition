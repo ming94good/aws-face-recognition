{
 "cells": [
  {
   "cell_type": "code",
   "execution_count": 20,
   "metadata": {},
   "outputs": [
    {
     "name": "stdout",
     "output_type": "stream",
     "text": [
      "{'ResponseMetadata': {'RequestId': '59E22D9034C329EA', 'HostId': 'Trcfroi/MOukIQt+jyvUUmHiR77OQnapyXXqIfjAQ8aEKv2t2/bvSBTLli7u6ZMgeIW69Qw8s1M=', 'HTTPStatusCode': 200, 'HTTPHeaders': {'x-amz-id-2': 'Trcfroi/MOukIQt+jyvUUmHiR77OQnapyXXqIfjAQ8aEKv2t2/bvSBTLli7u6ZMgeIW69Qw8s1M=', 'x-amz-request-id': '59E22D9034C329EA', 'date': 'Thu, 26 Dec 2019 03:05:26 GMT', 'etag': '\"b2795876396bfe7a6f2f15dfd4f148b9\"', 'content-length': '0', 'server': 'AmazonS3'}, 'RetryAttempts': 0}, 'ETag': '\"b2795876396bfe7a6f2f15dfd4f148b9\"'}\n",
      "{'ResponseMetadata': {'RequestId': 'CA94F4FF6170500B', 'HostId': 'tYmqxc3eH2pTobKfdaEJrqQL/WB42umpYDva+nL3zp2mdP49rcS/lP1PIv9tjOItz4Rn3Y8XE1U=', 'HTTPStatusCode': 200, 'HTTPHeaders': {'x-amz-id-2': 'tYmqxc3eH2pTobKfdaEJrqQL/WB42umpYDva+nL3zp2mdP49rcS/lP1PIv9tjOItz4Rn3Y8XE1U=', 'x-amz-request-id': 'CA94F4FF6170500B', 'date': 'Thu, 26 Dec 2019 03:05:28 GMT', 'etag': '\"aaa0408c1469b0fc6293daf5723bea2d\"', 'content-length': '0', 'server': 'AmazonS3'}, 'RetryAttempts': 0}, 'ETag': '\"aaa0408c1469b0fc6293daf5723bea2d\"'}\n",
      "{'ResponseMetadata': {'RequestId': '4BF502D01B7E7558', 'HostId': 'UnM7WKrH+I7LjTNyODheL8VB05GMoePM/yHgJbcBE4nxhs2iNkj5ypYLpEyUVvQ7MYDxSSuZFdg=', 'HTTPStatusCode': 200, 'HTTPHeaders': {'x-amz-id-2': 'UnM7WKrH+I7LjTNyODheL8VB05GMoePM/yHgJbcBE4nxhs2iNkj5ypYLpEyUVvQ7MYDxSSuZFdg=', 'x-amz-request-id': '4BF502D01B7E7558', 'date': 'Thu, 26 Dec 2019 03:05:30 GMT', 'etag': '\"104c74e991d5d2b1724f8c2e3bf810f2\"', 'content-length': '0', 'server': 'AmazonS3'}, 'RetryAttempts': 0}, 'ETag': '\"104c74e991d5d2b1724f8c2e3bf810f2\"'}\n",
      "{'ResponseMetadata': {'RequestId': '312048DDA55AAD69', 'HostId': 'QM8eA5DJpnP9WJ03wc0epSroQBi+Z+hcST0uC0paE6wEYPTofSdPiRt4orE47noA3Y+mRp35TOQ=', 'HTTPStatusCode': 200, 'HTTPHeaders': {'x-amz-id-2': 'QM8eA5DJpnP9WJ03wc0epSroQBi+Z+hcST0uC0paE6wEYPTofSdPiRt4orE47noA3Y+mRp35TOQ=', 'x-amz-request-id': '312048DDA55AAD69', 'date': 'Thu, 26 Dec 2019 03:05:30 GMT', 'etag': '\"2b16bf0593e59d8955ab75572483399f\"', 'content-length': '0', 'server': 'AmazonS3'}, 'RetryAttempts': 0}, 'ETag': '\"2b16bf0593e59d8955ab75572483399f\"'}\n",
      "{'ResponseMetadata': {'RequestId': '2E9EEFFF20381C8C', 'HostId': 'RxlDZ8dMg1v9x214OTUSkAB2TtR7r9eLcfXzDt+s+OGWG78sGgYByzQ7ci3INE9ZrvcJoqI5yq0=', 'HTTPStatusCode': 200, 'HTTPHeaders': {'x-amz-id-2': 'RxlDZ8dMg1v9x214OTUSkAB2TtR7r9eLcfXzDt+s+OGWG78sGgYByzQ7ci3INE9ZrvcJoqI5yq0=', 'x-amz-request-id': '2E9EEFFF20381C8C', 'date': 'Thu, 26 Dec 2019 03:05:31 GMT', 'etag': '\"f7c4f606b8fa89b768b4b3ca21783d65\"', 'content-length': '0', 'server': 'AmazonS3'}, 'RetryAttempts': 0}, 'ETag': '\"f7c4f606b8fa89b768b4b3ca21783d65\"'}\n",
      "{'ResponseMetadata': {'RequestId': '8203407C3B86FF82', 'HostId': 'yfcb6/GY+xTSQto+WHby2q86cr7IdGBDySXoXY8yh7wxtmkTP/cmnOAvQ0uU9PIsjP1nc+VsNvA=', 'HTTPStatusCode': 200, 'HTTPHeaders': {'x-amz-id-2': 'yfcb6/GY+xTSQto+WHby2q86cr7IdGBDySXoXY8yh7wxtmkTP/cmnOAvQ0uU9PIsjP1nc+VsNvA=', 'x-amz-request-id': '8203407C3B86FF82', 'date': 'Thu, 26 Dec 2019 03:05:31 GMT', 'etag': '\"c64625b8ec59c14f3b4700269bc5044a\"', 'content-length': '0', 'server': 'AmazonS3'}, 'RetryAttempts': 0}, 'ETag': '\"c64625b8ec59c14f3b4700269bc5044a\"'}\n",
      "{'ResponseMetadata': {'RequestId': '6ACE08197E91C941', 'HostId': 'wvT/5hCswvXyZ6okcmKYkt/vy3HgLBrsDDy9nT4ip42wlP86vtBznaE+M0gU+hlA36X+Z4Nmk5A=', 'HTTPStatusCode': 200, 'HTTPHeaders': {'x-amz-id-2': 'wvT/5hCswvXyZ6okcmKYkt/vy3HgLBrsDDy9nT4ip42wlP86vtBznaE+M0gU+hlA36X+Z4Nmk5A=', 'x-amz-request-id': '6ACE08197E91C941', 'date': 'Thu, 26 Dec 2019 03:05:32 GMT', 'etag': '\"a482f4207c4d40768a5d633f8a8bc6b4\"', 'content-length': '0', 'server': 'AmazonS3'}, 'RetryAttempts': 0}, 'ETag': '\"a482f4207c4d40768a5d633f8a8bc6b4\"'}\n",
      "{'ResponseMetadata': {'RequestId': 'F98CEFAE8C72DA71', 'HostId': '1b4MuY4Vto3GU1zAfkzSmjpAUTCWlgHCsEp2hUdZFo7dGQ8oPOJWiwk1j8LSjJK5Pm5o7Ef7HPc=', 'HTTPStatusCode': 200, 'HTTPHeaders': {'x-amz-id-2': '1b4MuY4Vto3GU1zAfkzSmjpAUTCWlgHCsEp2hUdZFo7dGQ8oPOJWiwk1j8LSjJK5Pm5o7Ef7HPc=', 'x-amz-request-id': 'F98CEFAE8C72DA71', 'date': 'Thu, 26 Dec 2019 03:05:32 GMT', 'etag': '\"d85268badd55cfb4c4016081bc68d469\"', 'content-length': '0', 'server': 'AmazonS3'}, 'RetryAttempts': 0}, 'ETag': '\"d85268badd55cfb4c4016081bc68d469\"'}\n",
      "{'ResponseMetadata': {'RequestId': 'CA416DFC3EDCA40D', 'HostId': '+oXDhVIJk2x+0IPa7N4uTGdfYcYlvsuacLdqDzqP9zwcbJ5YCPITYGOLCwznBpTLLkXwQOWqmOQ=', 'HTTPStatusCode': 200, 'HTTPHeaders': {'x-amz-id-2': '+oXDhVIJk2x+0IPa7N4uTGdfYcYlvsuacLdqDzqP9zwcbJ5YCPITYGOLCwznBpTLLkXwQOWqmOQ=', 'x-amz-request-id': 'CA416DFC3EDCA40D', 'date': 'Thu, 26 Dec 2019 03:05:33 GMT', 'etag': '\"83c2b3a9503951bfbf967bcf14eb1bee\"', 'content-length': '0', 'server': 'AmazonS3'}, 'RetryAttempts': 0}, 'ETag': '\"83c2b3a9503951bfbf967bcf14eb1bee\"'}\n",
      "{'ResponseMetadata': {'RequestId': '54441740C3F508CB', 'HostId': 'D5hj3bWZaUunu+TzDWKcqm6zd9q9yKU33aF38ORxG4LUvv4anCu8luvaoR6HGezNH/pQsBFWOh4=', 'HTTPStatusCode': 200, 'HTTPHeaders': {'x-amz-id-2': 'D5hj3bWZaUunu+TzDWKcqm6zd9q9yKU33aF38ORxG4LUvv4anCu8luvaoR6HGezNH/pQsBFWOh4=', 'x-amz-request-id': '54441740C3F508CB', 'date': 'Thu, 26 Dec 2019 03:05:33 GMT', 'etag': '\"abcb15472dee98423e79763eed2629e2\"', 'content-length': '0', 'server': 'AmazonS3'}, 'RetryAttempts': 0}, 'ETag': '\"abcb15472dee98423e79763eed2629e2\"'}\n",
      "{'ResponseMetadata': {'RequestId': 'E91BA2377180477B', 'HostId': 'TLDWyaAGPA4VJO7TS21c4mZ97/v1UY40omTmtl4mGVFJBJHXyd7Q1XWVD1B0XOIYgrgFLq7GbEk=', 'HTTPStatusCode': 200, 'HTTPHeaders': {'x-amz-id-2': 'TLDWyaAGPA4VJO7TS21c4mZ97/v1UY40omTmtl4mGVFJBJHXyd7Q1XWVD1B0XOIYgrgFLq7GbEk=', 'x-amz-request-id': 'E91BA2377180477B', 'date': 'Thu, 26 Dec 2019 03:05:34 GMT', 'etag': '\"45b32d6c19cab87aa23cf5aa5fe6c8c9\"', 'content-length': '0', 'server': 'AmazonS3'}, 'RetryAttempts': 0}, 'ETag': '\"45b32d6c19cab87aa23cf5aa5fe6c8c9\"'}\n",
      "{'ResponseMetadata': {'RequestId': 'B4A7543F7A1C496A', 'HostId': '4SKhRQWKhRzoE/69WCMJmAWEr7JDzqeKkE4Ct87CcuXvoZjK5WqbHegstjGFYbT2+hqYCN+MD9s=', 'HTTPStatusCode': 200, 'HTTPHeaders': {'x-amz-id-2': '4SKhRQWKhRzoE/69WCMJmAWEr7JDzqeKkE4Ct87CcuXvoZjK5WqbHegstjGFYbT2+hqYCN+MD9s=', 'x-amz-request-id': 'B4A7543F7A1C496A', 'date': 'Thu, 26 Dec 2019 03:05:34 GMT', 'etag': '\"54020fd10b2ac48da74d946606854262\"', 'content-length': '0', 'server': 'AmazonS3'}, 'RetryAttempts': 0}, 'ETag': '\"54020fd10b2ac48da74d946606854262\"'}\n",
      "{'ResponseMetadata': {'RequestId': 'A5BD6F40B7B61188', 'HostId': 'JnCsEIsqUzQM//yetDBOqcedxJg9zcmpKmvTnp3UqFYYpQHvvX1Ebp2vyBBLo4bcMGAw7yRjL6o=', 'HTTPStatusCode': 200, 'HTTPHeaders': {'x-amz-id-2': 'JnCsEIsqUzQM//yetDBOqcedxJg9zcmpKmvTnp3UqFYYpQHvvX1Ebp2vyBBLo4bcMGAw7yRjL6o=', 'x-amz-request-id': 'A5BD6F40B7B61188', 'date': 'Thu, 26 Dec 2019 03:05:35 GMT', 'etag': '\"69932d8a55d1782a3733a563139747c0\"', 'content-length': '0', 'server': 'AmazonS3'}, 'RetryAttempts': 0}, 'ETag': '\"69932d8a55d1782a3733a563139747c0\"'}\n",
      "{'ResponseMetadata': {'RequestId': 'D4EB71BFE37FBE46', 'HostId': 'xay3Fhf1xjSS4Ic4ZNsPEZXdmk+kXEmRYQtnh7cp+Cv+fUKl4/WBOHELUU6sGzZfdvLt7G+Ryl8=', 'HTTPStatusCode': 200, 'HTTPHeaders': {'x-amz-id-2': 'xay3Fhf1xjSS4Ic4ZNsPEZXdmk+kXEmRYQtnh7cp+Cv+fUKl4/WBOHELUU6sGzZfdvLt7G+Ryl8=', 'x-amz-request-id': 'D4EB71BFE37FBE46', 'date': 'Thu, 26 Dec 2019 03:05:35 GMT', 'etag': '\"827642a0fa713eae4a848bb9135421e7\"', 'content-length': '0', 'server': 'AmazonS3'}, 'RetryAttempts': 0}, 'ETag': '\"827642a0fa713eae4a848bb9135421e7\"'}\n",
      "{'ResponseMetadata': {'RequestId': 'DB03BDABF3EF2179', 'HostId': 'GciTcy/RljHXfNn2rKNsIC0xjPVj4k9hGVpZxh+8t4gWq4DGmlt5lZ6z97eTcMoDoPh/Zwlb9yc=', 'HTTPStatusCode': 200, 'HTTPHeaders': {'x-amz-id-2': 'GciTcy/RljHXfNn2rKNsIC0xjPVj4k9hGVpZxh+8t4gWq4DGmlt5lZ6z97eTcMoDoPh/Zwlb9yc=', 'x-amz-request-id': 'DB03BDABF3EF2179', 'date': 'Thu, 26 Dec 2019 03:05:36 GMT', 'etag': '\"bf5a1e2eb043fc43fe3cbac425bae112\"', 'content-length': '0', 'server': 'AmazonS3'}, 'RetryAttempts': 0}, 'ETag': '\"bf5a1e2eb043fc43fe3cbac425bae112\"'}\n",
      "{'ResponseMetadata': {'RequestId': 'D4F7E4D75FD8EE82', 'HostId': 'mStZ5xTj4Li2xklvkR5BYVxxFOdQZC+lpNilaNI0O4JEaF1itIuE6shWosy/3sTGvcDGiz6b09w=', 'HTTPStatusCode': 200, 'HTTPHeaders': {'x-amz-id-2': 'mStZ5xTj4Li2xklvkR5BYVxxFOdQZC+lpNilaNI0O4JEaF1itIuE6shWosy/3sTGvcDGiz6b09w=', 'x-amz-request-id': 'D4F7E4D75FD8EE82', 'date': 'Thu, 26 Dec 2019 03:05:36 GMT', 'etag': '\"dbc0b8f9f9676b8fade83f5bba7b0ac7\"', 'content-length': '0', 'server': 'AmazonS3'}, 'RetryAttempts': 0}, 'ETag': '\"dbc0b8f9f9676b8fade83f5bba7b0ac7\"'}\n"
     ]
    }
   ],
   "source": [
    "import boto3\n",
    "import pymysql\n",
    "import base64\n",
    "import json\n",
    "import time\n",
    "#import csv\n",
    "import os\n",
    "\n",
    "BUCKET = os.environ['BUCKET']\n",
    "HOST = os.environ['HOST']\n",
    "USER = os.environ['USER']\n",
    "PASSWD = os.environ['PASSWD']\n",
    "DB = os.environ['DB'] #face-db\n",
    "\n",
    "s3 = boto3.client('s3')\n",
    "conn = pymysql.connect (host = HOST, user = USER, passwd = PASSWD, db = DB ) \n",
    "cur = None\n",
    "if conn is not None:\n",
    "    cur = conn.cursor()\n",
    "if cur is not None:\n",
    "    cur.execute(\"select * from `face-table`\")\n",
    "    for  r  in  cur: \n",
    "        #print(r[1])\n",
    "        image = r[1]\n",
    "        faceDecode = base64.b64decode(image)\n",
    "\n",
    "        nowtime = time.strftime(\"%Y%m%d-%H%M%S\")\n",
    "        file_name = 'face-'+ nowtime + '.jpg'\n",
    "        folder = 'images/'\n",
    "        uploadPath = folder + file_name\n",
    "        response = s3.put_object(Body=faceDecode, Bucket=BUCKET, Key= uploadPath)\n",
    "        print(response) \n",
    "     \n",
    "#     save to csv\n",
    "#     with open('test.csv', 'w', newline='') as myfile:\n",
    "#         wr = csv.writer(myfile, quoting=csv.QUOTE_ALL)\n",
    "#         for  r  in  cur: \n",
    "#             wr.writerow(r)\n",
    "#         print(wr)\n",
    "#     with open('test.csv','rb') as csvfile:\n",
    "#         response = s3.put_object(Body=csvfile, Bucket=BUCKET, Key= 'csv/RDS.csv')\n",
    "    conn.commit()\n",
    "cur.close() \n",
    "conn.close()\n",
    "\n",
    "  "
   ]
  },
  {
   "cell_type": "code",
   "execution_count": null,
   "metadata": {},
   "outputs": [],
   "source": []
  }
 ],
 "metadata": {
  "kernelspec": {
   "display_name": "Python 3",
   "language": "python",
   "name": "python3"
  },
  "language_info": {
   "codemirror_mode": {
    "name": "ipython",
    "version": 3
   },
   "file_extension": ".py",
   "mimetype": "text/x-python",
   "name": "python",
   "nbconvert_exporter": "python",
   "pygments_lexer": "ipython3",
   "version": "3.6.8"
  }
 },
 "nbformat": 4,
 "nbformat_minor": 2
}
